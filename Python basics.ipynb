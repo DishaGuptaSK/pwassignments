{
 "cells": [
  {
   "cell_type": "code",
   "execution_count": 1,
   "id": "67199a67-e15c-4e74-aebd-28abb3f8808f",
   "metadata": {
    "tags": []
   },
   "outputs": [
    {
     "name": "stdout",
     "output_type": "stream",
     "text": [
      "hello world\n"
     ]
    }
   ],
   "source": [
    "print(\"hello world\")"
   ]
  },
  {
   "cell_type": "code",
   "execution_count": 2,
   "id": "b75c8e25-e947-4ff2-96bd-48c26bf6269f",
   "metadata": {},
   "outputs": [
    {
     "name": "stdout",
     "output_type": "stream",
     "text": [
      "10\n"
     ]
    }
   ],
   "source": [
    "a=10\n",
    "print(a)"
   ]
  },
  {
   "cell_type": "code",
   "execution_count": 3,
   "id": "c6a5a67f-fb3e-4929-82d2-05a56e46ae92",
   "metadata": {},
   "outputs": [
    {
     "data": {
      "text/plain": [
       "int"
      ]
     },
     "execution_count": 3,
     "metadata": {},
     "output_type": "execute_result"
    }
   ],
   "source": [
    "type(a)"
   ]
  },
  {
   "cell_type": "code",
   "execution_count": 4,
   "id": "51963eb4-6c33-46a0-a23a-0e3e2f5c133d",
   "metadata": {},
   "outputs": [
    {
     "data": {
      "text/plain": [
       "str"
      ]
     },
     "execution_count": 4,
     "metadata": {},
     "output_type": "execute_result"
    }
   ],
   "source": [
    "var1=''\n",
    "type(var1)"
   ]
  },
  {
   "cell_type": "code",
   "execution_count": 5,
   "id": "ac3ec1f2-1dda-4fc0-8c72-5396eac33d5b",
   "metadata": {},
   "outputs": [
    {
     "data": {
      "text/plain": [
       "str"
      ]
     },
     "execution_count": 5,
     "metadata": {},
     "output_type": "execute_result"
    }
   ],
   "source": [
    "var2 = '[ DS , ML , Python]'\n",
    "type(var2)"
   ]
  },
  {
   "cell_type": "code",
   "execution_count": 6,
   "id": "f7256ac8-a2e4-4409-83b0-7e832388a7de",
   "metadata": {},
   "outputs": [
    {
     "data": {
      "text/plain": [
       "list"
      ]
     },
     "execution_count": 6,
     "metadata": {},
     "output_type": "execute_result"
    }
   ],
   "source": [
    "var3 = [ 'DS' , 'ML' ,'Python' ]\n",
    "type(var3)"
   ]
  },
  {
   "cell_type": "code",
   "execution_count": 7,
   "id": "1dedf726-e77e-4bcd-826a-f69e9e222b6a",
   "metadata": {},
   "outputs": [
    {
     "data": {
      "text/plain": [
       "float"
      ]
     },
     "execution_count": 7,
     "metadata": {},
     "output_type": "execute_result"
    }
   ],
   "source": [
    "var4 = 1.\n",
    "type(var4)"
   ]
  },
  {
   "cell_type": "code",
   "execution_count": 8,
   "id": "60a6b838-6735-440f-9f56-cb51575df861",
   "metadata": {},
   "outputs": [
    {
     "name": "stdout",
     "output_type": "stream",
     "text": [
      "5.0\n"
     ]
    }
   ],
   "source": [
    "# / is used for division. x/y\n",
    "x=15\n",
    "y=3\n",
    "print(x/y)"
   ]
  },
  {
   "cell_type": "code",
   "execution_count": 9,
   "id": "64eaddca-ef82-4eab-b14d-a6ed38d4e1c9",
   "metadata": {},
   "outputs": [
    {
     "name": "stdout",
     "output_type": "stream",
     "text": [
      "2\n"
     ]
    }
   ],
   "source": [
    "# % means modulus. It gives the remainder. x%y\n",
    "x=6\n",
    "y=4\n",
    "print(x%y)"
   ]
  },
  {
   "cell_type": "code",
   "execution_count": 10,
   "id": "827e20d6-72c5-45a7-aa5a-c5be4c0b925d",
   "metadata": {},
   "outputs": [
    {
     "name": "stdout",
     "output_type": "stream",
     "text": [
      "7\n"
     ]
    }
   ],
   "source": [
    "# // the floor division rounds the result down to the nearest whole number\n",
    "x=15\n",
    "y=2\n",
    "print(x//y)"
   ]
  },
  {
   "cell_type": "code",
   "execution_count": 11,
   "id": "36c0651c-0f41-4c4c-8255-fbbf166b1984",
   "metadata": {},
   "outputs": [
    {
     "name": "stdout",
     "output_type": "stream",
     "text": [
      "32\n"
     ]
    }
   ],
   "source": [
    "# Exponential **\n",
    "x=2\n",
    "y=5\n",
    "print(x**y)\n",
    "# this means 2 to the power of 5 = 2*2*2*2*2"
   ]
  },
  {
   "cell_type": "code",
   "execution_count": 12,
   "id": "8e228109-f23f-4ad0-b28a-c383488179d4",
   "metadata": {},
   "outputs": [
    {
     "name": "stdout",
     "output_type": "stream",
     "text": [
      "25\n",
      "<class 'int'>\n",
      "52\n",
      "<class 'int'>\n",
      "36\n",
      "<class 'int'>\n",
      "apple\n",
      "<class 'str'>\n",
      "windows\n",
      "<class 'str'>\n",
      "False\n",
      "<class 'bool'>\n",
      "5.6\n",
      "<class 'float'>\n",
      "True\n",
      "<class 'bool'>\n",
      "10\n",
      "<class 'int'>\n",
      "(4+3j)\n",
      "<class 'complex'>\n"
     ]
    }
   ],
   "source": [
    "# Q4 Create a list of length 10 of your choice containing multiple types of data. Using for loop print the element and its data type.\n",
    "l = [25,52,36, \"apple\", \"windows\", False, 5.6, True, 10, 4+3j]\n",
    "for a in l :\n",
    "    print(a)\n",
    "    print(type(a))"
   ]
  },
  {
   "cell_type": "code",
   "execution_count": 13,
   "id": "ef515352-5105-4ade-b992-109fa8a3d9d5",
   "metadata": {},
   "outputs": [
    {
     "name": "stdout",
     "output_type": "stream",
     "text": [
      "1\n"
     ]
    }
   ],
   "source": [
    "# Q5. Using a while loop, verify if the number A is purely divisible by number B and if so then how many times it can be divisible.\n",
    "count=0\n",
    "A=10\n",
    "B=2\n",
    "if A%B==0:\n",
    "    while A%B==0:\n",
    "        count=count+1\n",
    "        A = A//B\n",
    "        print(count)"
   ]
  },
  {
   "cell_type": "code",
   "execution_count": 1,
   "id": "42b13b04-d69a-4604-a742-74e7723aaad6",
   "metadata": {},
   "outputs": [
    {
     "name": "stdout",
     "output_type": "stream",
     "text": [
      "3 The number is not divisible by 3\n",
      "5 The number is not divisible by 3\n",
      "9 The number is not divisible by 3\n",
      "55 The number is not divisible by 3\n",
      "25 The number is not divisible by 3\n",
      "20 The number is not divisible by 3\n",
      "15 The number is not divisible by 3\n",
      "30 The number is not divisible by 3\n",
      "33 The number is not divisible by 3\n",
      "26 The number is not divisible by 3\n",
      "36 The number is not divisible by 3\n",
      "39 The number is not divisible by 3\n",
      "54 The number is not divisible by 3\n",
      "87 The number is not divisible by 3\n",
      "14 The number is not divisible by 3\n",
      "75 The number is not divisible by 3\n",
      "58 The number is not divisible by 3\n",
      "21 The number is not divisible by 3\n",
      "24 The number is not divisible by 3\n",
      "27 The number is not divisible by 3\n",
      "22 The number is not divisible by 3\n",
      "2 The number is not divisible by 3\n",
      "7 The number is not divisible by 3\n",
      "65 The number is not divisible by 3\n",
      "45 The number is not divisible by 3\n"
     ]
    }
   ],
   "source": [
    "# Q6. Create a list containing 25 int type data. Using for loop and if-else condition print if the element is divisible by 3 or not.\n",
    "l = [3,5,9,55,25,20,15,30,33,26,36,39,54,87,14,75,58,21,24,27,22,2,7,65,45]\n",
    "for i in l:\n",
    "    if i==i//3 :\n",
    "        print(i,\"The number is divisible by 3\")\n",
    "    else :\n",
    "        print(i, \"The number is not divisible by 3\")"
   ]
  },
  {
   "cell_type": "code",
   "execution_count": 3,
   "id": "cc67df3a-a04c-465e-9e12-a39df9466713",
   "metadata": {},
   "outputs": [
    {
     "name": "stdout",
     "output_type": "stream",
     "text": [
      "List after changing value using indexing =  [1, 2, 3, 4, 100]\n"
     ]
    },
    {
     "ename": "TypeError",
     "evalue": "'str' object does not support item assignment",
     "output_type": "error",
     "traceback": [
      "\u001b[0;31m---------------------------------------------------------------------------\u001b[0m",
      "\u001b[0;31mTypeError\u001b[0m                                 Traceback (most recent call last)",
      "Cell \u001b[0;32mIn[3], line 11\u001b[0m\n\u001b[1;32m      9\u001b[0m \u001b[38;5;66;03m# Immutable data types are those whose values cannot be modified once they are created. For example, int, string, bool, float, tuple, etc.\u001b[39;00m\n\u001b[1;32m     10\u001b[0m name \u001b[38;5;241m=\u001b[39m \u001b[38;5;124m\"\u001b[39m\u001b[38;5;124mdisha\u001b[39m\u001b[38;5;124m\"\u001b[39m\n\u001b[0;32m---> 11\u001b[0m \u001b[43mname\u001b[49m\u001b[43m[\u001b[49m\u001b[38;5;241;43m3\u001b[39;49m\u001b[43m]\u001b[49m \u001b[38;5;241m=\u001b[39m \u001b[38;5;124m\"\u001b[39m\u001b[38;5;124mg\u001b[39m\u001b[38;5;124m\"\u001b[39m\n",
      "\u001b[0;31mTypeError\u001b[0m: 'str' object does not support item assignment"
     ]
    }
   ],
   "source": [
    "# Q7. What do you understand about mutable and immutable data types? Give examples for both showing this property.\n",
    "# Mutable data types are those that can be changed after they are created. For example lists, dictionary, set.\n",
    "# Example to demonstrate we can change the value of the list by using the assignment operator\n",
    "my_list = [1,2,3,4,5]\n",
    "my_list[4] = 100\n",
    "print(\"List after changing value using indexing = \", my_list)\n",
    "\n",
    "\n",
    "# Immutable data types are those whose values cannot be modified once they are created. For example, int, string, bool, float, tuple, etc.\n",
    "name = \"disha\"\n",
    "name[3] = \"g\""
   ]
  }
 ],
 "metadata": {
  "kernelspec": {
   "display_name": "Python 3 (ipykernel)",
   "language": "python",
   "name": "python3"
  },
  "language_info": {
   "codemirror_mode": {
    "name": "ipython",
    "version": 3
   },
   "file_extension": ".py",
   "mimetype": "text/x-python",
   "name": "python",
   "nbconvert_exporter": "python",
   "pygments_lexer": "ipython3",
   "version": "3.10.8"
  }
 },
 "nbformat": 4,
 "nbformat_minor": 5
}
